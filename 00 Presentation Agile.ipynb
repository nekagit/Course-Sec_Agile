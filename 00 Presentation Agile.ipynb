{
 "cells": [
  {
   "cell_type": "markdown",
   "metadata": {},
   "source": [
    "# Welcome to Module 8 - 01 Lecture: Agile Project Management\n",
    "\n",
    "---\n",
    "\n",
    "\n",
    "### Table of Contents\n",
    "\n",
    "1. **📌 Introduction Project Management**\n",
    "2. **📌 Understanding difference between traditional and Agile Project Management**\n",
    "3. **📌 Understanding Agile Principles**\n",
    "4. **📌 Get to know different Agile Frameworks and Methodologies**\n",
    "5. **📌 Get to know different Agile Tools and Software**\n",
    "\n",
    "\n",
    "---\n",
    "---"
   ]
  },
  {
   "cell_type": "markdown",
   "metadata": {},
   "source": [
    "## Table of Contents\n"
   ]
  },
  {
   "cell_type": "markdown",
   "metadata": {},
   "source": [
    "### Introduction Project Management (10.00 – 11.00 am)\n",
    "\n",
    "- Presentation of the curriculum and learning objectives\n",
    "- Crash Course Test into Project Management\n",
    "- Understanding difference between traditional and Agile Project Management\n",
    "\n",
    "\n",
    "### Helpful Links\n",
    "- https://learn.microsoft.com/en-us/azure/devops/boards/best-practices-agile-project-management?view=azure-devops&tabs=agile-process\n",
    "- https://www.atlassian.com/agile/project-management\n",
    "- https://www.altexsoft.com/whitepapers/agile-project-management-best-practices-and-methodologies/\n",
    "- https://www.atlassian.com/agile/manifesto"
   ]
  },
  {
   "cell_type": "markdown",
   "metadata": {},
   "source": [
    "### Introduction to Agile Project Management, Frameworks and Methodologies(11.15 – 12.00 pm)\n",
    "\n",
    "- Agile vs Traditional\n",
    "- Agile Principles\n",
    "- Scrum\n",
    "- Kanban"
   ]
  },
  {
   "cell_type": "markdown",
   "metadata": {},
   "source": [
    "### AI (12.00 – 13.00pm)\n",
    "\n"
   ]
  },
  {
   "cell_type": "markdown",
   "metadata": {},
   "source": [
    "---\n",
    "---"
   ]
  },
  {
   "cell_type": "markdown",
   "metadata": {},
   "source": [
    "1. **📌 Introduction Project Management**\n"
   ]
  },
  {
   "cell_type": "markdown",
   "metadata": {},
   "source": [
    "#"
   ]
  },
  {
   "cell_type": "markdown",
   "metadata": {},
   "source": [
    "---"
   ]
  },
  {
   "cell_type": "markdown",
   "metadata": {},
   "source": [
    "2. **📌 Understanding difference between traditional and Agile Project Management**\n"
   ]
  },
  {
   "cell_type": "markdown",
   "metadata": {},
   "source": [
    "\n",
    "### Traditional Project Management:\n",
    "- Linear, sequential approach (e.g., Waterfall model).\n",
    "- Heavy documentation and structured phases.\n",
    "- Limited flexibility once project scope is set.\n",
    "- Best for predictable and well-defined projects.\n",
    "\n",
    "\n",
    "1. Nicht fest definiert von anfang an, in paketen/sprint unterteilt\n",
    "2. Strukturiert, neue Sachen eingehen\n",
    "\n",
    "\n",
    "\n",
    "### Agile Project Management:\n",
    "- Iterative and adaptive approach.\n",
    "- Prioritizes collaboration and customer feedback.\n",
    "- Flexible, accommodating changes at any stage.\n",
    "- Best for projects requiring innovation and quick adaptations\n",
    "\n",
    "##### Lean: Focuses on efficiency, reducing waste, and optimizing value delivery\n",
    "##### SAFe (Scaled Agile Framework): Designed for large organizations needing to scale Agile principles\n",
    "---\n",
    "\n"
   ]
  },
  {
   "cell_type": "markdown",
   "metadata": {},
   "source": [
    "3. **📌 Understanding Agile Principles**\n"
   ]
  },
  {
   "cell_type": "markdown",
   "metadata": {},
   "source": []
  },
  {
   "cell_type": "markdown",
   "metadata": {},
   "source": [
    "---"
   ]
  },
  {
   "cell_type": "markdown",
   "metadata": {},
   "source": [
    "4. **📌 Get to know different Agile Frameworks and Methodologies**\n"
   ]
  },
  {
   "cell_type": "markdown",
   "metadata": {},
   "source": [
    "\n",
    "### Kanban \n",
    "Atlassians / Jira / Tracking / Kanbanboard\n",
    "The term \"Kanban\" comes from Japanese, where \"kan\" means \"visual\" and \"ban\"\n",
    "means \"card\" or \"board\".\n",
    "\n",
    "Agile - Manifesto 12 Principles\n",
    "\n",
    "### Scrum \n",
    "1. Eigenverantwortung / Top-Down nicht / Teams zusammenfinden\n",
    "2. Sprints aufgeteilt\n",
    "\n",
    "Scrum\" is a term borrowed from the sport of rugby, where a \"scrum\" refers to a tight\n",
    "formation of players working together to gain control of the ball\n",
    "\n",
    "- Scrum Team - 3 main Teams\n",
    "1. Product Owner\n",
    "2. Scrum Master \n",
    "3. Development\n",
    "Divide in smaller groups each main group\n",
    "\n",
    "- Sprint Planning: short time scaled period (weekly, monthly)\n",
    "- Product Backlog: A prioritized list of features, bug fixes, and other tasks required to develop the product\n",
    "- Sprint Backlog: The set of product backlog items the team has committed to completing during the current sprint\n",
    "\n",
    "---\n",
    "\n",
    "\n",
    "### Scrumban\n",
    "1. Kanban Board in Scrum\n",
    "The Scrum team can use a Kanban board to visualize the workflow and track the\n",
    "progress of work during each Sprint.\n",
    "\n",
    "The board typically has columns for \"To Do\", \"In Progress\", and \"Done\", mirroring\n",
    "the Scrum workflow.\n",
    "\n",
    "Work items (user stories, tasks, bugs, etc.) are represented as cards on the board\n",
    "and moved across the columns as they progress.\n",
    "\n",
    "\n",
    "2. Limiting Work in Progress (WIP)\n",
    "Scrum teams can apply WIP limits to each column on the Kanban board to\n",
    "prevent overloading the team and ensure a steady flow of work.\n",
    "\n",
    "This helps identify bottlenecks and encourages the team to focus on completing\n",
    "work before starting new tasks.\n",
    "\n",
    "3. Continuous Improvement\n",
    "The Kanban board provides transparency into the workflow, allowing the Scrum\n",
    "team to identify areas for improvement during the Sprint Retrospective.\n",
    "\n",
    "Teams can experiment with adjusting WIP limits, changing workflow steps, or\n",
    "other incremental process changes to optimize their Scrum process.\n",
    "\n",
    "\n",
    "4. Complementary Practices\n",
    "\n",
    "Scrum ceremonies like Daily Standup, Sprint Planning, and Sprint Review can be\n",
    "conducted alongside the Kanban board visualization.\n",
    "\n",
    "The Product Backlog and Sprint Backlog still form the foundation of the Scrum\n",
    "process, with the Kanban board providing an additional layer of workflow\n",
    "management\n"
   ]
  },
  {
   "cell_type": "markdown",
   "metadata": {},
   "source": [
    "---"
   ]
  },
  {
   "cell_type": "markdown",
   "metadata": {},
   "source": []
  }
 ],
 "metadata": {
  "language_info": {
   "name": "python"
  }
 },
 "nbformat": 4,
 "nbformat_minor": 2
}
