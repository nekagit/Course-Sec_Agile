{
 "cells": [
  {
   "cell_type": "markdown",
   "metadata": {},
   "source": [
    "# Welcome to Module 8 - 01 Lecture: Agile Project Management\n",
    "\n",
    "---\n",
    "\n",
    "\n",
    "### Table of Contents\n",
    "\n",
    "1. **📌 Introduction Project Management**\n",
    "2. **📌 Understanding difference between traditional and Agile Project Management**\n",
    "3. **📌 Understanding Agile Principles**\n",
    "4. **📌 Get to know different Agile Tools and Software**\n",
    "\n",
    "\n",
    "---\n",
    "---"
   ]
  },
  {
   "cell_type": "markdown",
   "metadata": {},
   "source": [
    "## Table of Contents\n"
   ]
  },
  {
   "cell_type": "markdown",
   "metadata": {},
   "source": [
    "### Introduction Project Management (10.00 – 11.00 am)\n",
    "\n",
    "- Presentation of the curriculum and learning objectives\n",
    "- Crash Course Test into Project Management\n",
    "- Understanding difference between traditional and Agile Project Management\n",
    "\n",
    "\n",
    "### Helpful Links\n",
    "- https://learn.microsoft.com/en-us/azure/devops/boards/best-practices-agile-project-management?view=azure-devops&tabs=agile-process\n",
    "- https://www.atlassian.com/agile/project-management\n",
    "- https://www.altexsoft.com/whitepapers/agile-project-management-best-practices-and-methodologies/\n",
    "- https://www.atlassian.com/agile/manifesto"
   ]
  },
  {
   "cell_type": "markdown",
   "metadata": {},
   "source": [
    "### Introduction to Agile Project Management, Frameworks and Methodologies(11.15 – 12.00 pm)\n",
    "\n",
    "- Agile vs Traditional\n",
    "- Agile Principles\n",
    "- Scrum\n",
    "- Kanban"
   ]
  },
  {
   "cell_type": "markdown",
   "metadata": {},
   "source": [
    "### AI (12.00 – 13.00pm)\n",
    "\n"
   ]
  },
  {
   "cell_type": "markdown",
   "metadata": {},
   "source": [
    "---\n",
    "---"
   ]
  },
  {
   "cell_type": "markdown",
   "metadata": {},
   "source": [
    "1. **📌 Introduction Project Management**\n"
   ]
  },
  {
   "cell_type": "markdown",
   "metadata": {},
   "source": [
    "### 1. What is Project Management?\n",
    "Project management is the application of knowledge, skills, tools, and techniques to project activities to meet project requirements. It involves planning, executing, monitoring, and closing projects efficiently and effectively.\n",
    "\n",
    "### 2. Key Components of Project Management\n",
    "- **Scope**: Defines the project goals, deliverables, tasks, and deadlines.\n",
    "- **Time**: Scheduling and managing the timeline to ensure timely completion.\n",
    "- **Cost**: Budgeting and controlling costs to stay within financial limits.\n",
    "- **Quality**: Ensuring that project deliverables meet the required standards.\n",
    "- **Risk Management**: Identifying, assessing, and mitigating risks.\n",
    "- **Stakeholder Management**: Engaging and communicating with project stakeholders.\n",
    "\n",
    "### 3. Project Management Phases\n",
    "1. **Initiation**: Define project goals, scope, and feasibility.\n",
    "2. **Planning**: Develop a roadmap, including schedules, resources, and budget.\n",
    "3. **Execution**: Implement the plan and manage team performance.\n",
    "4. **Monitoring & Controlling**: Track progress, adjust strategies, and mitigate risks.\n",
    "5. **Closure**: Finalize the project, deliver outcomes, and evaluate success.\n",
    "\n",
    "### 4. Project Management Methodologies\n",
    "- **Waterfall**: A linear, sequential approach with distinct phases.\n",
    "- **Agile**: An iterative approach emphasizing flexibility and collaboration.\n",
    "- **Scrum**: A subset of Agile, focusing on sprints and daily stand-ups.\n",
    "- **Kanban**: A visual workflow management system to track progress.\n",
    "- **Lean**: Focuses on maximizing value while minimizing waste."
   ]
  },
  {
   "cell_type": "markdown",
   "metadata": {},
   "source": [
    "#"
   ]
  },
  {
   "cell_type": "markdown",
   "metadata": {},
   "source": [
    "---"
   ]
  },
  {
   "cell_type": "markdown",
   "metadata": {},
   "source": [
    "2. **📌 Understanding difference between traditional and Agile Project Management**\n"
   ]
  },
  {
   "cell_type": "markdown",
   "metadata": {},
   "source": [
    "\n",
    "### Traditional Project Management:\n",
    "- Linear, sequential approach (e.g., Waterfall model).\n",
    "- Heavy documentation and structured phases.\n",
    "- Limited flexibility once project scope is set.\n",
    "- Best for predictable and well-defined projects.\n",
    "\n",
    "\n",
    "1. Nicht fest definiert von anfang an, in paketen/sprint unterteilt\n",
    "2. Strukturiert, neue Sachen eingehen\n",
    "\n",
    "\n",
    "\n",
    "### Agile Project Management:\n",
    "- Iterative and adaptive approach.\n",
    "- Prioritizes collaboration and customer feedback.\n",
    "- Flexible, accommodating changes at any stage.\n",
    "- Best for projects requiring innovation and quick adaptations\n",
    "\n",
    "##### Lean: Focuses on efficiency, reducing waste, and optimizing value delivery\n",
    "##### SAFe (Scaled Agile Framework): Designed for large organizations needing to scale Agile principles\n",
    "---\n",
    "\n"
   ]
  },
  {
   "cell_type": "markdown",
   "metadata": {},
   "source": [
    "3. **📌 Understanding Agile Principles**\n"
   ]
  },
  {
   "cell_type": "markdown",
   "metadata": {},
   "source": [
    "\n",
    "# Principles and Values of Agile\n",
    "\n",
    "Agile is a framework used for developing and managing projects that emphasizes adaptability, collaboration, and customer satisfaction. It is based on the Agile Manifesto, which outlines core values and principles guiding Agile methodologies. Below, we delve into the key values and principles that form the foundation of Agile practices.\n",
    "\n",
    "## Core Values of Agile\n",
    "\n",
    "1. **Individuals and Interactions Over Processes and Tools**\n",
    "   - Emphasizes human collaboration over rigid adherence to processes.\n",
    "   - Encourages open communication and collaboration among team members.\n",
    "  \n",
    "2. **Working Software Over Comprehensive Documentation**\n",
    "   - Focuses on delivering functional software as the primary measure of progress.\n",
    "   - Advocates for documentation that is useful and necessary rather than exhaustive.\n",
    "\n",
    "3. **Customer Collaboration Over Contract Negotiation**\n",
    "   - Prioritizes continuous collaboration and engagement with customers to ensure their needs are met.\n",
    "   - Encourages partnerships with customers rather than viewing interactions as formal contractual obligations.\n",
    "\n",
    "4. **Responding to Change Over Following a Plan**\n",
    "   - Welcomes change and adapts to it throughout the project to deliver valuable outcomes.\n",
    "   - Promotes agility in the project by being flexible and responsive to changing circumstances.\n",
    "\n",
    "## Key Principles of Agile\n",
    "\n",
    "1. **Our highest priority is to satisfy the customer through early and continuous delivery of valuable software.**\n",
    "\n",
    "2. **Welcome changing requirements, even late in development. Agile processes harness change for the customer’s competitive advantage.**\n",
    "\n",
    "3. **Deliver working software frequently, from a couple of weeks to a couple of months, with a preference to the shorter timescale.**\n",
    "\n",
    "4. **Business people and developers must work together daily throughout the project.**\n",
    "\n",
    "5. **Build projects around motivated individuals. Give them the environment and support they need, and trust them to get the job done.**\n",
    "\n",
    "6. **The most efficient and effective method of conveying information to and within a development team is face-to-face conversation.**\n",
    "\n",
    "7. **Working software is the primary measure of progress.**\n",
    "\n",
    "8. **Agile processes promote sustainable development. The sponsors, developers, and users should be able to maintain a constant pace indefinitely.**\n",
    "\n",
    "9. **Continuous attention to technical excellence and good design enhances agility.**\n",
    "\n",
    "10. **Simplicity—the art of maximizing the amount of work not done—is essential.**\n",
    "\n",
    "11. **The best architectures, requirements, and designs emerge from self-organizing teams.**\n",
    "\n",
    "12. **At regular intervals, the team reflects on how to become more effective, then tunes and adjusts its behavior accordingly.**"
   ]
  },
  {
   "cell_type": "markdown",
   "metadata": {},
   "source": [
    "---"
   ]
  },
  {
   "cell_type": "markdown",
   "metadata": {},
   "source": [
    "4. **📌  Get to know different Agile Tools and Software**\n"
   ]
  },
  {
   "cell_type": "markdown",
   "metadata": {},
   "source": [
    "\n",
    "Agile Project Management is a modern approach to managing projects that focuses on iterative development, collaboration, and flexibility. It is commonly used in software development but has been adapted for various industries. The Agile methodology emphasizes customer satisfaction, frequent delivery of functional products, and adaptive planning.\n",
    "\n",
    "**13 Essential Tools for Agile Project Management**\n",
    "\n",
    "1. **Jira**\n",
    "   - **Overview:** Jira is a popular tool for tracking and managing Agile software development projects. It supports Scrum and Kanban methodologies.\n",
    "   - **Key Features:** Backlog management, sprint planning, task tracking, reporting dashboards, and integration with other tools.\n",
    "\n",
    "2. **Trello**\n",
    "   - **Overview:** Trello utilizes boards, lists, and cards to organize tasks and collaborate with team members in a visual format.\n",
    "   - **Key Features:** Drag-and-drop interface, checklists, labels, due dates, and integration with over 100 additional platforms.\n",
    "\n",
    "3. **Asana**\n",
    "   - **Overview:** Asana helps teams organize work, manage projects, and track progress in a single shared space.\n",
    "   - **Key Features:** Task assignments, timelines, project dashboards, workload allocation, and real-time updates.\n",
    "\n",
    "4. **Monday.com**\n",
    "   - **Overview:** A work operating system that facilitates team collaboration and tracks project progress with customizable workflows.\n",
    "   - **Key Features:** Visual project overviews, time tracking, automations, integrations with tools like Slack and Zoom.\n",
    "\n",
    "5. **ClickUp**\n",
    "   - **Overview:** ClickUp is designed for teams to plan, track, and manage projects in a shared space, supporting views like Lists, Boards, and Gantt charts.\n",
    "   - **Key Features:** Goal setting, customizable templates, time tracking, and an integrated doc manager.\n",
    "\n",
    "6. **Azure DevOps**\n",
    "   - **Overview:** Microsoft’s Azure DevOps provides tools for developer collaboration throughout all phases of software development.\n",
    "   - **Key Features:** Git repositories, CI/CD pipelines, agile boards, and custom reporting.\n",
    "\n",
    "7. **VersionOne**\n",
    "   - **Overview:** VersionOne offers a comprehensive agile management platform for scaling enterprise agility.\n",
    "   - **Key Features:** End-to-end agile project management, backlog management, sprint tracking, portfolio planning.\n",
    "\n",
    "8. **Rally (formerly CA Agile Central)**\n",
    "   - **Overview:** Rally focuses on scaling Agile practices within large organizations by providing a suite of project tracking and planning tools.\n",
    "   - **Key Features:** Roadmap planning, release tracking, defect management, and real-time reporting.\n",
    "\n",
    "9. **Smartsheet**\n",
    "   - **Overview:** Smartsheet is a collaborative work management tool that manages projects via a simple spreadsheet interface.\n",
    "   - **Key Features:** Customizable dashboards, automation workflows, resource management, and file sharing.\n",
    "\n",
    "10. **Miro**\n",
    "    - **Overview:** Miro offers an online collaborative whiteboard platform for brainstorming and planning in Agile environments.\n",
    "    - **Key Features:** Interactive templates, intuitive drawing tools, voting features, and video conferencing integrations.\n",
    "\n",
    "11. **Zoho Sprints**\n",
    "    - **Overview:** Part of the Zoho suite, Sprints allows Agile teams to manage their projects using Scrum boards.\n",
    "    - **Key Features:** Backlog prioritization, sprint tracking, time logging, and retrospective support.\n",
    "\n",
    "12. **Kanbanize**\n",
    "    - **Overview:** Originally designed for Kanban, Kanbanize helps visualize processes, automate workflows, and enhance transparency.\n",
    "    - **Key Features:** Portfolio Kanban, timeline planning, analytics, and real-time monitoring.\n",
    "\n",
    "13. **Targetprocess**\n",
    "    - **Overview:** Targetprocess provides a visual approach to project management, suitable for scaling agile practices across teams.\n",
    "    - **Key Features:** Customizable views, role-based access, integration with third-party tools, and business intelligence capabilities.\n",
    "\n",
    "### Kanban \n",
    "Atlassians / Jira / Tracking / Kanbanboard\n",
    "The term \"Kanban\" comes from Japanese, where \"kan\" means \"visual\" and \"ban\"\n",
    "means \"card\" or \"board\".\n",
    "\n",
    "\n",
    "### Scrum \n",
    "1. Eigenverantwortung / Top-Down nicht / Teams zusammenfinden\n",
    "2. Sprints aufgeteilt\n",
    "\n",
    "Scrum\" is a term borrowed from the sport of rugby, where a \"scrum\" refers to a tight\n",
    "formation of players working together to gain control of the ball\n",
    "\n",
    "- Scrum Team - 3 main Teams\n",
    "1. Product Owner\n",
    "2. Scrum Master \n",
    "3. Development\n",
    "Divide in smaller groups each main group\n",
    "\n",
    "- Sprint Planning: short time scaled period (weekly, monthly)\n",
    "- Product Backlog: A prioritized list of features, bug fixes, and other tasks required to develop the product\n",
    "- Sprint Backlog: The set of product backlog items the team has committed to completing during the current sprint\n",
    "\n",
    "---\n",
    "\n",
    "\n",
    "### Scrumban\n",
    "1. Kanban Board in Scrum\n",
    "The Scrum team can use a Kanban board to visualize the workflow and track the\n",
    "progress of work during each Sprint.\n",
    "\n",
    "The board typically has columns for \"To Do\", \"In Progress\", and \"Done\", mirroring\n",
    "the Scrum workflow.\n",
    "\n",
    "Work items (user stories, tasks, bugs, etc.) are represented as cards on the board\n",
    "and moved across the columns as they progress.\n",
    "\n",
    "\n",
    "2. Limiting Work in Progress (WIP)\n",
    "Scrum teams can apply WIP limits to each column on the Kanban board to\n",
    "prevent overloading the team and ensure a steady flow of work.\n",
    "\n",
    "This helps identify bottlenecks and encourages the team to focus on completing\n",
    "work before starting new tasks.\n",
    "\n",
    "3. Continuous Improvement\n",
    "The Kanban board provides transparency into the workflow, allowing the Scrum\n",
    "team to identify areas for improvement during the Sprint Retrospective.\n",
    "\n",
    "Teams can experiment with adjusting WIP limits, changing workflow steps, or\n",
    "other incremental process changes to optimize their Scrum process.\n",
    "\n",
    "\n",
    "4. Complementary Practices\n",
    "\n",
    "Scrum ceremonies like Daily Standup, Sprint Planning, and Sprint Review can be\n",
    "conducted alongside the Kanban board visualization.\n",
    "\n",
    "The Product Backlog and Sprint Backlog still form the foundation of the Scrum\n",
    "process, with the Kanban board providing an additional layer of workflow\n",
    "management\n"
   ]
  },
  {
   "cell_type": "markdown",
   "metadata": {},
   "source": [
    "---"
   ]
  },
  {
   "cell_type": "markdown",
   "metadata": {},
   "source": []
  }
 ],
 "metadata": {
  "language_info": {
   "name": "python"
  }
 },
 "nbformat": 4,
 "nbformat_minor": 2
}
