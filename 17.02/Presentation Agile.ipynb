{
 "cells": [
  {
   "cell_type": "markdown",
   "metadata": {},
   "source": [
    "# Welcome to Module 8 - 01 Lecture: Agile Project Management\n",
    "\n",
    "---\n",
    "\n",
    "\n",
    "### Table of Contents\n",
    "\n",
    "1. **📌 Introduction Project Management**\n",
    "2. **📌 Understanding difference between traditional and Agile Project Management**\n",
    "3. **📌 Understanding Agile Principles**\n",
    "4. **📌 Get to know different Agile Frameworks and Methodologies**\n",
    "5. **📌 Get to know different Agile Tools and Software**\n",
    "\n",
    "\n",
    "---\n",
    "---"
   ]
  }
 ],
 "metadata": {
  "language_info": {
   "name": "python"
  }
 },
 "nbformat": 4,
 "nbformat_minor": 2
}
